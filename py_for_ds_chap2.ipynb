{
 "cells": [
  {
   "cell_type": "code",
   "execution_count": null,
   "metadata": {},
   "outputs": [],
   "source": []
  }
 ],
 "metadata": {
  "kernelspec": {
   "display_name": "Python 3.8.5 32-bit",
   "language": "python",
   "name": "python3"
  },
  "language_info": {
   "name": "python",
   "version": "3.8.5"
  },
  "orig_nbformat": 4,
  "vscode": {
   "interpreter": {
    "hash": "74e2b4d1455dd4639cbbfbdf3348bdabb97d90a9fc0d6c90055cdb2b98bdca5a"
   }
  }
 },
 "nbformat": 4,
 "nbformat_minor": 2
}
