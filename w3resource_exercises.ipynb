{
 "cells": [
  {
   "cell_type": "code",
   "execution_count": 2,
   "metadata": {},
   "outputs": [],
   "source": [
    "import pandas as pd\n",
    "import numpy as np"
   ]
  },
  {
   "cell_type": "markdown",
   "metadata": {},
   "source": [
    "## Pandas Data Series"
   ]
  },
  {
   "cell_type": "markdown",
   "metadata": {},
   "source": [
    "### #1"
   ]
  },
  {
   "cell_type": "code",
   "execution_count": 4,
   "metadata": {},
   "outputs": [
    {
     "name": "stdout",
     "output_type": "stream",
     "text": [
      "    0\n",
      "0   1\n",
      "1   3\n",
      "2   5\n",
      "3   7\n",
      "4  11\n",
      "5  13\n",
      "6  17\n",
      "7  19\n"
     ]
    }
   ],
   "source": [
    "#create and display a one dimensional array\n",
    "\n",
    "arr = pd.DataFrame([1,3,5,7,11,13,17,19])\n",
    "\n",
    "print(arr)"
   ]
  },
  {
   "cell_type": "markdown",
   "metadata": {},
   "source": [
    "### #2"
   ]
  },
  {
   "cell_type": "code",
   "execution_count": 7,
   "metadata": {},
   "outputs": [
    {
     "name": "stdout",
     "output_type": "stream",
     "text": [
      "0    1\n",
      "1    2\n",
      "2    3\n",
      "3    4\n",
      "4    5\n",
      "dtype: int64\n",
      "[1, 2, 3, 4, 5]\n"
     ]
    }
   ],
   "source": [
    "#convert pandas Series object to list\n",
    "\n",
    "ds = pd.Series([1,2,3,4,5])\n",
    "\n",
    "print(ds)\n",
    "print(ds.tolist())"
   ]
  },
  {
   "cell_type": "markdown",
   "metadata": {},
   "source": [
    "### #3"
   ]
  },
  {
   "cell_type": "code",
   "execution_count": 8,
   "metadata": {},
   "outputs": [
    {
     "name": "stdout",
     "output_type": "stream",
     "text": [
      "0     6\n",
      "1     8\n",
      "2    10\n",
      "3    12\n",
      "dtype: int64\n",
      "0   -4\n",
      "1   -4\n",
      "2   -4\n",
      "3   -4\n",
      "dtype: int64\n",
      "0     5\n",
      "1    12\n",
      "2    21\n",
      "3    32\n",
      "dtype: int64\n",
      "0    0.200000\n",
      "1    0.333333\n",
      "2    0.428571\n",
      "3    0.500000\n",
      "dtype: float64\n"
     ]
    }
   ],
   "source": [
    "# program to +, -, *, /, two pandas series\n",
    "\n",
    "ds1 = pd.Series([1,2,3,4])\n",
    "ds2 = pd.Series([5,6,7,8])\n",
    "\n",
    "print(ds1 + ds2)\n",
    "print(ds1 - ds2)\n",
    "print(ds1 * ds2)\n",
    "print(ds1 / ds2)"
   ]
  },
  {
   "cell_type": "markdown",
   "metadata": {},
   "source": [
    "### #4"
   ]
  },
  {
   "cell_type": "code",
   "execution_count": 9,
   "metadata": {},
   "outputs": [
    {
     "name": "stdout",
     "output_type": "stream",
     "text": [
      "0    False\n",
      "1    False\n",
      "2    False\n",
      "3    False\n",
      "4     True\n",
      "dtype: bool\n",
      "0     True\n",
      "1     True\n",
      "2     True\n",
      "3     True\n",
      "4    False\n",
      "dtype: bool\n",
      "0    False\n",
      "1    False\n",
      "2    False\n",
      "3    False\n",
      "4    False\n",
      "dtype: bool\n"
     ]
    }
   ],
   "source": [
    "# compare elements of two series\n",
    "\n",
    "ds1 = pd.Series([2,4,6,8,10])\n",
    "ds2 = pd.Series([1,3,5,7,10])\n",
    "\n",
    "print(ds1 == ds2)\n",
    "print(ds1 > ds2)\n",
    "print(ds1 < ds2)"
   ]
  },
  {
   "cell_type": "markdown",
   "metadata": {},
   "source": [
    "### #5"
   ]
  },
  {
   "cell_type": "code",
   "execution_count": 10,
   "metadata": {},
   "outputs": [
    {
     "name": "stdout",
     "output_type": "stream",
     "text": [
      "a    100\n",
      "b    200\n",
      "c    300\n",
      "d    400\n",
      "e    500\n",
      "dtype: int64\n"
     ]
    }
   ],
   "source": [
    "# convert dict to pandas Series\n",
    "\n",
    "dict1 = {'a':100, 'b': 200, 'c': 300, 'd': 400, 'e': 500}\n",
    "\n",
    "ds = pd.Series(dict1)\n",
    "print(ds)"
   ]
  },
  {
   "cell_type": "markdown",
   "metadata": {},
   "source": [
    "### #6"
   ]
  },
  {
   "cell_type": "code",
   "execution_count": 4,
   "metadata": {},
   "outputs": [
    {
     "name": "stdout",
     "output_type": "stream",
     "text": [
      "0    10\n",
      "1    20\n",
      "2    30\n",
      "3    40\n",
      "4    50\n",
      "dtype: int32\n"
     ]
    }
   ],
   "source": [
    "#use pandas to convert numpy array to pandas series\n",
    "\n",
    "arr = np.array([10,20,30,40,50])\n",
    "\n",
    "ds = pd.Series(arr)\n",
    "print(ds)"
   ]
  },
  {
   "cell_type": "markdown",
   "metadata": {},
   "source": [
    "### #7"
   ]
  },
  {
   "cell_type": "code",
   "execution_count": 13,
   "metadata": {},
   "outputs": [
    {
     "name": "stdout",
     "output_type": "stream",
     "text": [
      "0    100\n",
      "1    200\n",
      "2    300\n",
      "3    400\n",
      "4    500\n",
      "5    600\n",
      "dtype: int64\n",
      "0    100\n",
      "1    200\n",
      "2    300\n",
      "3    400\n",
      "4    500\n",
      "5    600\n",
      "dtype: int64\n",
      "0    100.0\n",
      "1    200.0\n",
      "2    300.0\n",
      "3    400.0\n",
      "4    500.0\n",
      "5    600.0\n",
      "dtype: float64\n"
     ]
    }
   ],
   "source": [
    "# change data type of column or a series\n",
    "\n",
    "ds = pd.Series([100, 200, 300, 400, 500, 600])\n",
    "\n",
    "#method 1\n",
    "num = pd.to_numeric(ds)\n",
    "\n",
    "# method 2\n",
    "flt = ds.astype(float)\n",
    "\n",
    "print(ds)\n",
    "print(num)\n",
    "print(flt)"
   ]
  },
  {
   "cell_type": "markdown",
   "metadata": {},
   "source": [
    "### #8"
   ]
  },
  {
   "cell_type": "code",
   "execution_count": 37,
   "metadata": {},
   "outputs": [
    {
     "name": "stdout",
     "output_type": "stream",
     "text": [
      "    0   1   2   3   4\n",
      "0   1   2   3   4   5\n",
      "1   6   7   8   9  10\n",
      "2  11  12  13  14  15\n",
      "0     1\n",
      "1     6\n",
      "2    11\n",
      "Name: 0, dtype: int32\n",
      "0     1\n",
      "1     6\n",
      "2    11\n",
      "Name: 0, dtype: int32\n"
     ]
    }
   ],
   "source": [
    "#convert first col of dataframe to a series\n",
    "\n",
    "d = np.array([[1,2,3,4,5],[6,7,8,9,10],[11,12,13,14,15]])\n",
    "df = pd.DataFrame(data = d)\n",
    "\n",
    "print(df)\n",
    "\n",
    "col1 = df.iloc[:,0]\n",
    "\n",
    "ds = pd.Series(col1)\n",
    "\n",
    "print(col1)\n",
    "print(ds)\n",
    "\n",
    "#they tried to get me to use the df.ix() method, but that has been deprecated. now loc and iloc are\n",
    "#used."
   ]
  },
  {
   "cell_type": "markdown",
   "metadata": {},
   "source": [
    "### #9"
   ]
  },
  {
   "cell_type": "code",
   "execution_count": 43,
   "metadata": {},
   "outputs": [
    {
     "name": "stdout",
     "output_type": "stream",
     "text": [
      "[list([100, 200, 'python', 300.12, 400])]\n"
     ]
    }
   ],
   "source": [
    "#convert give Series to and array\n",
    "\n",
    "ds = pd.Series([100, 200, \"python\", 300.12, 400])\n",
    "\n",
    "arr = np.array(ds)\n",
    "\n",
    "print(arr)\n",
    "\n",
    "#HAH! didn't need to look anything up, I have mastered computers"
   ]
  },
  {
   "cell_type": "markdown",
   "metadata": {},
   "source": [
    "### #10"
   ]
  },
  {
   "cell_type": "code",
   "execution_count": 47,
   "metadata": {},
   "outputs": [
    {
     "name": "stdout",
     "output_type": "stream",
     "text": [
      "0    [red, green, blue]\n",
      "1        [white, black]\n",
      "2          [1, 2, 3, 4]\n",
      "dtype: object\n",
      "0      red\n",
      "1    green\n",
      "2     blue\n",
      "3    white\n",
      "4    black\n",
      "5        1\n",
      "6        2\n",
      "7        3\n",
      "8      4.0\n",
      "dtype: object\n"
     ]
    }
   ],
   "source": [
    "#convert series of lists to one series\n",
    "\n",
    "ds = pd.Series([[\"red\", \"green\", \"blue\"], [\"white\", \"black\"], [1,2,3,4]])\n",
    "\n",
    "print(ds)\n",
    "\n",
    "series = ds.apply(pd.Series).stack().reset_index(drop=True)\n",
    "\n",
    "print(series)"
   ]
  },
  {
   "cell_type": "markdown",
   "metadata": {},
   "source": [
    "### #11"
   ]
  },
  {
   "cell_type": "code",
   "execution_count": 17,
   "metadata": {},
   "outputs": [
    {
     "name": "stdout",
     "output_type": "stream",
     "text": [
      "0    100.00\n",
      "4    110.00\n",
      "1    200.00\n",
      "5    210.00\n",
      "2    300.12\n",
      "3    400.00\n",
      "dtype: float64\n"
     ]
    }
   ],
   "source": [
    "# sort a series\n",
    "\n",
    "ds = pd.Series([100, 200, 300.12, 400, 110, 210])\n",
    "\n",
    "type(ds)\n",
    "\n",
    "sort1 = pd.Series(ds).sort_values()\n",
    "print(sort1)\n",
    "\n",
    "#ok, this was a bad problem. the sort_values() only works if all elemnts in series are the\n",
    "#same type. cannot sort ints/floats and strings. however, if any floats present, all output\n",
    "#will be float."
   ]
  },
  {
   "cell_type": "markdown",
   "metadata": {},
   "source": [
    "### #12"
   ]
  },
  {
   "cell_type": "code",
   "execution_count": 27,
   "metadata": {},
   "outputs": [
    {
     "name": "stdout",
     "output_type": "stream",
     "text": [
      "0     6\n",
      "1     7\n",
      "2     8\n",
      "3     9\n",
      "4    10\n",
      "0     1\n",
      "1     2\n",
      "2     3\n",
      "3     4\n",
      "4     5\n",
      "dtype: int64\n"
     ]
    }
   ],
   "source": [
    "#add data to a series\n",
    "\n",
    "ser1 = pd.Series([1,2,3,4,5])\n",
    "ser2 = pd.Series([6,7,8,9,10])\n",
    "\n",
    "ser2 = ser2.append(ser1)\n",
    "\n",
    "print(ser2)"
   ]
  }
 ],
 "metadata": {
  "kernelspec": {
   "display_name": "Python 3 (ipykernel)",
   "language": "python",
   "name": "python3"
  },
  "language_info": {
   "codemirror_mode": {
    "name": "ipython",
    "version": 3
   },
   "file_extension": ".py",
   "mimetype": "text/x-python",
   "name": "python",
   "nbconvert_exporter": "python",
   "pygments_lexer": "ipython3",
   "version": "3.9.7"
  }
 },
 "nbformat": 4,
 "nbformat_minor": 4
}
